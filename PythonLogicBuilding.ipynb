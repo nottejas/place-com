{
 "cells": [
  {
   "cell_type": "code",
   "execution_count": 3,
   "id": "3715a554-376a-486b-8858-f92d9340b023",
   "metadata": {},
   "outputs": [
    {
     "name": "stdout",
     "output_type": "stream",
     "text": [
      "sajet\n"
     ]
    }
   ],
   "source": [
    "#reverse the string\n",
    "name = 'tejas'\n",
    "rev_name = ''\n",
    "length = len(name)\n",
    "i = length-1\n",
    "while i > -1:\n",
    "    rev_name += name[i]\n",
    "    i=i-1\n",
    "print(rev_name)"
   ]
  },
  {
   "cell_type": "code",
   "execution_count": 4,
   "id": "5406a90d-3325-45a7-8319-afee1caa9878",
   "metadata": {},
   "outputs": [
    {
     "data": {
      "text/plain": [
       "[1, 2, 13, 0, 0]"
      ]
     },
     "execution_count": 4,
     "metadata": {},
     "output_type": "execute_result"
    }
   ],
   "source": [
    "# shift zeros to the end of the list\n",
    "mylist = [0,1,2,0,13]\n",
    "for i in range(len(mylist)):\n",
    "    if mylist[i] == 0:\n",
    "        mylist.append(0)\n",
    "        del mylist[i]\n",
    "mylist"
   ]
  },
  {
   "cell_type": "code",
   "execution_count": 10,
   "id": "da2905d8-28ec-44a1-8cc6-39880b919266",
   "metadata": {},
   "outputs": [
    {
     "data": {
      "text/plain": [
       "'progamin'"
      ]
     },
     "execution_count": 10,
     "metadata": {},
     "output_type": "execute_result"
    }
   ],
   "source": [
    "# no duplicates \n",
    "name = 'programming'\n",
    "new_name = ''\n",
    "\n",
    "for i in range(len(name)):\n",
    "    if name[i] not in new_name:\n",
    "        new_name += name[i]\n",
    "new_name"
   ]
  },
  {
   "cell_type": "code",
   "execution_count": 14,
   "id": "7e5ce3f6-67df-4992-bdbe-b43f33e93d82",
   "metadata": {},
   "outputs": [
    {
     "data": {
      "text/plain": [
       "[3, 2, 1, 4]"
      ]
     },
     "execution_count": 14,
     "metadata": {},
     "output_type": "execute_result"
    }
   ],
   "source": [
    "#no duplicate in list\n",
    "mylist = [3,2,3,1,2,4]\n",
    "newlist=[]\n",
    "\n",
    "for i in mylist:\n",
    "    if i not in newlist:\n",
    "        newlist.append(i)\n",
    "    else:\n",
    "        pass\n",
    "newlist"
   ]
  },
  {
   "cell_type": "code",
   "execution_count": 5,
   "id": "9e97e321-0981-4e4c-ab16-9f15ec389b40",
   "metadata": {},
   "outputs": [
    {
     "data": {
      "text/plain": [
       "7"
      ]
     },
     "execution_count": 5,
     "metadata": {},
     "output_type": "execute_result"
    }
   ],
   "source": [
    "#second largest element\n",
    "mylist=[7,3,2,14,14]\n",
    "uniq_list = list(set(mylist))\n",
    "uniq_list.sort()\n",
    "uniq_list[-2]"
   ]
  },
  {
   "cell_type": "code",
   "execution_count": 8,
   "id": "bc6b0c93-2983-4622-94f6-2787f5296696",
   "metadata": {},
   "outputs": [
    {
     "data": {
      "text/plain": [
       "[3, 2, 1, 4]"
      ]
     },
     "execution_count": 8,
     "metadata": {},
     "output_type": "execute_result"
    }
   ],
   "source": [
    "#remove duplicates \n",
    "mylist = [3,2,3,1,2,4]\n",
    "finalList = []\n",
    "for i in mylist:\n",
    "    if i not in finalList:\n",
    "        finalList.append(i)\n",
    "finalList"
   ]
  },
  {
   "cell_type": "code",
   "execution_count": 3,
   "id": "e5399b03-0302-4045-a220-8fcab70ec389",
   "metadata": {},
   "outputs": [
    {
     "data": {
      "text/plain": [
       "([1], [4])"
      ]
     },
     "execution_count": 3,
     "metadata": {},
     "output_type": "execute_result"
    }
   ],
   "source": [
    "#min max\n",
    "mylist = [3,2,3,1,2,4]\n",
    "mylist.sort()\n",
    "mylist[:1], mylist[-1::]"
   ]
  },
  {
   "cell_type": "code",
   "execution_count": 9,
   "id": "fb39ea09-6842-49ef-98fb-326eab9014eb",
   "metadata": {},
   "outputs": [
    {
     "data": {
      "text/plain": [
       "(4, 1)"
      ]
     },
     "execution_count": 9,
     "metadata": {},
     "output_type": "execute_result"
    }
   ],
   "source": [
    "# min-max usign array\n",
    "mylist = [3,2,1,2,4]\n",
    "max = min = mylist[0]\n",
    "for i in mylist:\n",
    "    if max < mylist[i]:\n",
    "        max = mylist[i]\n",
    "    if min > mylist[i]:\n",
    "        min = mylist[i]\n",
    "max, min"
   ]
  },
  {
   "cell_type": "code",
   "execution_count": 12,
   "id": "14c314fb-8a20-4a1f-b98a-4eafdda4e984",
   "metadata": {},
   "outputs": [
    {
     "data": {
      "text/plain": [
       "4"
      ]
     },
     "execution_count": 12,
     "metadata": {},
     "output_type": "execute_result"
    }
   ],
   "source": [
    "# count of consecutives ones\n",
    "mylist = [1,1,1,0,1,1,1,1]\n",
    "finalL = []\n",
    "count = 0\n",
    "for i in mylist:\n",
    "    if i == 1:\n",
    "        count +=1\n",
    "    else:\n",
    "        finalL.append(count)\n",
    "        count = 0\n",
    "finalL.append(count)\n",
    "finalL[-1]"
   ]
  },
  {
   "cell_type": "code",
   "execution_count": 8,
   "id": "fff650dc-feb6-4bef-9b09-95cf52e583d1",
   "metadata": {},
   "outputs": [
    {
     "data": {
      "text/plain": [
       "[3, 2]"
      ]
     },
     "execution_count": 8,
     "metadata": {},
     "output_type": "execute_result"
    }
   ],
   "source": [
    "# intersection of two lists\n",
    "\n",
    "var1 = [3,2,2,1]\n",
    "var2 = [3,2]\n",
    "res = []\n",
    "\n",
    "for i, j in zip(range(len(var1)), range(len(var2))):\n",
    "    if var1[i] == var2[j]:\n",
    "        if var1[i] not in res:\n",
    "\n",
    "            res.append(var1[i])\n",
    "res"
   ]
  },
  {
   "cell_type": "code",
   "execution_count": 10,
   "id": "4cd4efc5-2818-419e-958c-cc97b79e2e6f",
   "metadata": {},
   "outputs": [
    {
     "data": {
      "text/plain": [
       "[2, 3]"
      ]
     },
     "execution_count": 10,
     "metadata": {},
     "output_type": "execute_result"
    }
   ],
   "source": [
    "# another way using set\n",
    "\n",
    "var1 = set(var1)\n",
    "var2 = set(var2)\n",
    "\n",
    "ans = list(var1.intersection(var2))\n",
    "ans"
   ]
  },
  {
   "cell_type": "code",
   "execution_count": 11,
   "id": "e1eb8f71-a051-41ae-aafc-bf5496cd71ab",
   "metadata": {},
   "outputs": [
    {
     "data": {
      "text/plain": [
       "100"
      ]
     },
     "execution_count": 11,
     "metadata": {},
     "output_type": "execute_result"
    }
   ],
   "source": [
    "# adding values of dcitionary\n",
    "\n",
    "mydict = {\"A\": 10, \"B\": 20, \"C\": 30, \"D\":40}\n",
    "sum=0\n",
    "for i in mydict.values():\n",
    "    sum = sum+i\n",
    "sum"
   ]
  },
  {
   "cell_type": "code",
   "execution_count": 19,
   "id": "8d19a3e5-2006-44fe-9274-4a2c28c39f05",
   "metadata": {},
   "outputs": [
    {
     "name": "stdout",
     "output_type": "stream",
     "text": [
      "('B', 2)\n"
     ]
    }
   ],
   "source": [
    "#common key and value\n",
    "\n",
    "dict1 = {\"A\": 1, \"B\": 2, \"C\": 3}\n",
    "dict2 = {\"B\": 2, \"C\": 4, \"D\": 5}\n",
    "\n",
    "\n",
    "for i in dict1.items():\n",
    "    for j in dict2.items():\n",
    "        if i == j:\n",
    "            print(i)"
   ]
  },
  {
   "cell_type": "code",
   "execution_count": 21,
   "id": "479078cb-c09f-4248-b39c-402ce2edb51a",
   "metadata": {},
   "outputs": [
    {
     "data": {
      "text/plain": [
       "{'1': 1, '2': 2, '3': 2, '4': 1, '5': 1}"
      ]
     },
     "execution_count": 21,
     "metadata": {},
     "output_type": "execute_result"
    }
   ],
   "source": [
    "#count frequency of element in dictionary\n",
    "\n",
    "mylist = [1,2,2,3,4,3,5]\n",
    "mydict = {}\n",
    "\n",
    "for i in mylist:\n",
    "    count = 0\n",
    "    key = i\n",
    "    for j in mylist:\n",
    "        if key == j:\n",
    "            count += 1\n",
    "    mydict[str(key)] = count\n",
    "    count=0\n",
    "mydict"
   ]
  },
  {
   "cell_type": "code",
   "execution_count": null,
   "id": "db2d8b9e-dda6-4989-8553-a23610c2d0d8",
   "metadata": {},
   "outputs": [],
   "source": []
  }
 ],
 "metadata": {
  "kernelspec": {
   "display_name": "Python 3 (ipykernel)",
   "language": "python",
   "name": "python3"
  },
  "language_info": {
   "codemirror_mode": {
    "name": "ipython",
    "version": 3
   },
   "file_extension": ".py",
   "mimetype": "text/x-python",
   "name": "python",
   "nbconvert_exporter": "python",
   "pygments_lexer": "ipython3",
   "version": "3.12.7"
  }
 },
 "nbformat": 4,
 "nbformat_minor": 5
}
