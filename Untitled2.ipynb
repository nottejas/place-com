{
 "cells": [
  {
   "cell_type": "code",
   "execution_count": 6,
   "id": "241f92eb-5885-4c3f-83c2-3dbe3b32be72",
   "metadata": {},
   "outputs": [
    {
     "name": "stdout",
     "output_type": "stream",
     "text": [
      "A\u001a\n",
      "B\n",
      "C\n",
      "C\n",
      "\n",
      "hahahahhahahahahahhahahahahahhahahahahhahahah\n"
     ]
    }
   ],
   "source": [
    "f = open(\"file.txt\", \"a\")\n",
    "f.write(\"hahahhahahah\")\n",
    "f.close()\n",
    "f = open(\"file.txt\", \"r\")\n",
    "print(f.read())"
   ]
  },
  {
   "cell_type": "code",
   "execution_count": 10,
   "id": "94c8dcd4-6cc9-4b48-b770-a074ca82d186",
   "metadata": {},
   "outputs": [],
   "source": [
    "f=open(\"temsp.txt\", \"x\")\n",
    "f.close()"
   ]
  },
  {
   "cell_type": "code",
   "execution_count": 13,
   "id": "94b9f627-fa0e-4364-b63c-463fabfe8229",
   "metadata": {},
   "outputs": [
    {
     "name": "stdout",
     "output_type": "stream",
     "text": [
      "already deleted\n"
     ]
    }
   ],
   "source": [
    "import os\n",
    "if os.path.exists(\"temp.txt\"):  \n",
    "    os.remove(\"temp.txt\")\n",
    "else:\n",
    "    print(\"already deleted\")"
   ]
  },
  {
   "cell_type": "code",
   "execution_count": 16,
   "id": "09ab2e54-79d1-415e-a4c4-5aa79e8ed056",
   "metadata": {},
   "outputs": [],
   "source": [
    "import pandas as pd"
   ]
  },
  {
   "cell_type": "code",
   "execution_count": 17,
   "id": "75b3d77b-ec4a-4fd5-b1c1-e84700c86241",
   "metadata": {},
   "outputs": [
    {
     "data": {
      "text/html": [
       "<div>\n",
       "<style scoped>\n",
       "    .dataframe tbody tr th:only-of-type {\n",
       "        vertical-align: middle;\n",
       "    }\n",
       "\n",
       "    .dataframe tbody tr th {\n",
       "        vertical-align: top;\n",
       "    }\n",
       "\n",
       "    .dataframe thead th {\n",
       "        text-align: right;\n",
       "    }\n",
       "</style>\n",
       "<table border=\"1\" class=\"dataframe\">\n",
       "  <thead>\n",
       "    <tr style=\"text-align: right;\">\n",
       "      <th></th>\n",
       "      <th>name</th>\n",
       "      <th>age</th>\n",
       "      <th>subject</th>\n",
       "    </tr>\n",
       "  </thead>\n",
       "  <tbody>\n",
       "    <tr>\n",
       "      <th>0</th>\n",
       "      <td>tejas</td>\n",
       "      <td>21</td>\n",
       "      <td>physics</td>\n",
       "    </tr>\n",
       "    <tr>\n",
       "      <th>1</th>\n",
       "      <td>ronaldo</td>\n",
       "      <td>23</td>\n",
       "      <td>physics</td>\n",
       "    </tr>\n",
       "    <tr>\n",
       "      <th>2</th>\n",
       "      <td>messi</td>\n",
       "      <td>23</td>\n",
       "      <td>maths</td>\n",
       "    </tr>\n",
       "  </tbody>\n",
       "</table>\n",
       "</div>"
      ],
      "text/plain": [
       "      name  age  subject\n",
       "0    tejas   21  physics\n",
       "1  ronaldo   23  physics\n",
       "2    messi   23    maths"
      ]
     },
     "execution_count": 17,
     "metadata": {},
     "output_type": "execute_result"
    }
   ],
   "source": [
    "my_dict = {\n",
    "    \"name\": [\"tejas\", \"ronaldo\", \"messi\"],\n",
    "    \"age\": [21, 23, 23],\n",
    "    \"subject\": [\"physics\", \"physics\", \"maths\"]\n",
    "}\n",
    "\n",
    "final_dict = pd.DataFrame(my_dict)\n",
    "final_dict"
   ]
  },
  {
   "cell_type": "code",
   "execution_count": null,
   "id": "0e99ae20-6977-4363-8bf3-c548f07372f4",
   "metadata": {},
   "outputs": [],
   "source": []
  }
 ],
 "metadata": {
  "kernelspec": {
   "display_name": "Python 3 (ipykernel)",
   "language": "python",
   "name": "python3"
  },
  "language_info": {
   "codemirror_mode": {
    "name": "ipython",
    "version": 3
   },
   "file_extension": ".py",
   "mimetype": "text/x-python",
   "name": "python",
   "nbconvert_exporter": "python",
   "pygments_lexer": "ipython3",
   "version": "3.12.7"
  }
 },
 "nbformat": 4,
 "nbformat_minor": 5
}
