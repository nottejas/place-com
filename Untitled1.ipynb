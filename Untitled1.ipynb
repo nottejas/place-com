{
 "cells": [
  {
   "cell_type": "code",
   "execution_count": 5,
   "id": "d35951bf-8526-4af0-951e-ac92b3e664d4",
   "metadata": {},
   "outputs": [
    {
     "name": "stdin",
     "output_type": "stream",
     "text": [
      " meet\n"
     ]
    },
    {
     "name": "stdout",
     "output_type": "stream",
     "text": [
      "correct pass\n"
     ]
    }
   ],
   "source": [
    "passw = \"meet\"\n",
    "x = input(\"\")\n",
    "def is_function():\n",
    "    if x == passw:\n",
    "        print(\"correct pass\")\n",
    "    else:\n",
    "        print(\"wrong\")\n",
    "is_function()"
   ]
  },
  {
   "cell_type": "code",
   "execution_count": 8,
   "id": "abf8ca51-b9a9-4dd0-8c4e-778e0258f6bc",
   "metadata": {},
   "outputs": [
    {
     "name": "stdout",
     "output_type": "stream",
     "text": [
      "Hello tejas\n"
     ]
    }
   ],
   "source": [
    "def greet(name):\n",
    "    print(\"Hello \" + name)\n",
    "greet(\"tejas\")"
   ]
  },
  {
   "cell_type": "code",
   "execution_count": 14,
   "id": "a2629fb1-4b09-4a99-a7af-fdef34f24303",
   "metadata": {},
   "outputs": [
    {
     "name": "stdin",
     "output_type": "stream",
     "text": [
      "Enter numbers separated by space:  5 3 9 8 2\n"
     ]
    },
    {
     "name": "stdout",
     "output_type": "stream",
     "text": [
      "Minimum: 2, Maximum: 9\n"
     ]
    }
   ],
   "source": [
    "def find_min_max(arr):\n",
    "    if not arr:\n",
    "        return None, None\n",
    "    arr.sort() \n",
    "    mini = arr[0]\n",
    "    maxi = arr[-1]\n",
    "    return mini, maxi\n",
    "\n",
    "arr = list(map(int, input(\"Enter numbers separated by space: \").split()))\n",
    "mini, maxi = find_min_max(arr)\n",
    "print(f\"Minimum: {mini}, Maximum: {maxi}\")\n"
   ]
  },
  {
   "cell_type": "code",
   "execution_count": 18,
   "id": "1623979b-636b-4e40-a8f1-f9a9f13651e3",
   "metadata": {},
   "outputs": [
    {
     "name": "stdin",
     "output_type": "stream",
     "text": [
      " 1 2 3 1\n"
     ]
    },
    {
     "name": "stdout",
     "output_type": "stream",
     "text": [
      "2\n"
     ]
    }
   ],
   "source": [
    "#second largest\n",
    "\n",
    "def find_sl(arr):\n",
    "    if len(arr) < 2:\n",
    "        return \"Array must contain at least two ele\"\n",
    "\n",
    "    largest = max(arr[0], arr[1])\n",
    "    second_large = min(arr[0], arr[1])\n",
    "\n",
    "    for i in range(2, len(arr)):\n",
    "        if arr[i] > largest:\n",
    "            second_large = largest\n",
    "            largest = arr[i]\n",
    "        elif arr[i] > second_large and arr[i] != largest:\n",
    "            second_large = arr[i]\n",
    "\n",
    "    return second_large if second_large != largest else \"none\"\n",
    "arr = list(map(int, input(\"\").split()))\n",
    "result = find_sl(arr)\n",
    "print(result)"
   ]
  },
  {
   "cell_type": "code",
   "execution_count": 23,
   "id": "10a441b7-53f6-4ce7-8030-29db417a1578",
   "metadata": {},
   "outputs": [
    {
     "name": "stdin",
     "output_type": "stream",
     "text": [
      "  3 2 1 2 3 4\n"
     ]
    },
    {
     "name": "stdout",
     "output_type": "stream",
     "text": [
      "[3, 2, 1, 4]\n"
     ]
    }
   ],
   "source": [
    "# remove dupli from unsorted array\n",
    "\n",
    "def remove_dupli(arr):\n",
    "    uniq = set()\n",
    "    result = []\n",
    "    for num in arr:\n",
    "        if num not in uniq:\n",
    "            uniq.add(num)\n",
    "            result.append(num)\n",
    "    return result  \n",
    "\n",
    "arr = list(map(int, input().split()))  \n",
    "final_r = remove_dupli(arr)\n",
    "print(final_r)  \n"
   ]
  },
  {
   "cell_type": "code",
   "execution_count": 24,
   "id": "8fee6eba-d3b9-4ce5-9baa-f53fabc77f02",
   "metadata": {},
   "outputs": [
    {
     "name": "stdout",
     "output_type": "stream",
     "text": [
      "2\n"
     ]
    }
   ],
   "source": [
    "# find missing num\n",
    "\n",
    "def find_miss(arr):\n",
    "    n = len(arr)\n",
    "    expected_sum = n * (n + 1) // 2\n",
    "    act_sum = sum(arr)\n",
    "    miss_num = expected_sum - act_sum\n",
    "    return miss_num\n",
    "arr = [0, 1, 3]\n",
    "miss_find_miss(arr)"
   ]
  },
  {
   "cell_type": "code",
   "execution_count": 27,
   "id": "b43d08e7-b6c1-4ac8-bbfd-189d5131e837",
   "metadata": {},
   "outputs": [
    {
     "name": "stdout",
     "output_type": "stream",
     "text": [
      "[2, 3]\n"
     ]
    }
   ],
   "source": [
    "# intersect of two \n",
    "\n",
    "def intersect_of_two(arr1, arr2):\n",
    "    set1 = set(arr1)\n",
    "    intersect = []\n",
    "\n",
    "    for num in arr2:\n",
    "        if num in set1 and num not in intersect:\n",
    "            intersect.append(num)\n",
    "\n",
    "    return intersect \n",
    "    \n",
    "arr1 = [1, 2, 2, 3, 4]\n",
    "arr2 = [2, 2, 3, 5]\n",
    "print(intersect_of_two(arr1, arr2))  \n"
   ]
  },
  {
   "cell_type": "code",
   "execution_count": 29,
   "id": "f4c77f5c-a2d6-43b7-81e9-b562ed3817ce",
   "metadata": {},
   "outputs": [
    {
     "name": "stdout",
     "output_type": "stream",
     "text": [
      "[2, -3, 1]\n"
     ]
    }
   ],
   "source": [
    "# largest sub-array with sum 0 \n",
    "def largest_subarray(arr):\n",
    "    prefix_sum = 0\n",
    "    sum_index_map = {0: -1}\n",
    "    max_len = 0\n",
    "    start_index = -1\n",
    "\n",
    "    for i, num in enumerate(arr):\n",
    "        prefix_sum += num\n",
    "\n",
    "        if prefix_sum in sum_index_map:\n",
    "            length = i - sum_index_map[prefix_sum]\n",
    "            if length > max_len:\n",
    "                max_len = length\n",
    "                start_index = sum_index_map[prefix_sum] + 1\n",
    "        else:\n",
    "            sum_index_map[prefix_sum] = i\n",
    "\n",
    "    if max_len == 0:\n",
    "        return []\n",
    "\n",
    "    return arr[start_index:start_index + max_len]\n",
    "\n",
    "arr = [4, 2, -3, 1, 6]\n",
    "print(largest_subarray(arr))\n"
   ]
  },
  {
   "cell_type": "code",
   "execution_count": null,
   "id": "2e2202a9-22d0-4369-a111-17f552b515f4",
   "metadata": {},
   "outputs": [],
   "source": []
  }
 ],
 "metadata": {
  "kernelspec": {
   "display_name": "Python 3 (ipykernel)",
   "language": "python",
   "name": "python3"
  },
  "language_info": {
   "codemirror_mode": {
    "name": "ipython",
    "version": 3
   },
   "file_extension": ".py",
   "mimetype": "text/x-python",
   "name": "python",
   "nbconvert_exporter": "python",
   "pygments_lexer": "ipython3",
   "version": "3.12.7"
  }
 },
 "nbformat": 4,
 "nbformat_minor": 5
}
