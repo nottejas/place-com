{
 "cells": [
  {
   "cell_type": "code",
   "execution_count": 2,
   "id": "3715a554-376a-486b-8858-f92d9340b023",
   "metadata": {},
   "outputs": [
    {
     "name": "stdout",
     "output_type": "stream",
     "text": [
      "sajet\n"
     ]
    }
   ],
   "source": [
    "#reverse the string\n",
    "name = 'tejas'\n",
    "rev_name = ''\n",
    "length = len(name)\n",
    "i = length-1\n",
    "while i > -1:\n",
    "    rev_name += name[i]\n",
    "    i=i-1\n",
    "print(rev_name)"
   ]
  },
  {
   "cell_type": "code",
   "execution_count": 3,
   "id": "5406a90d-3325-45a7-8319-afee1caa9878",
   "metadata": {},
   "outputs": [
    {
     "data": {
      "text/plain": [
       "[1, 2, 13, 0, 0]"
      ]
     },
     "execution_count": 3,
     "metadata": {},
     "output_type": "execute_result"
    }
   ],
   "source": [
    "# shift zeros to the end of the list\n",
    "mylist = [0,1,2,0,13]\n",
    "for i in range(len(mylist)):\n",
    "    if mylist[i] == 0:\n",
    "        mylist.append(0)\n",
    "        del mylist[i]\n",
    "mylist"
   ]
  },
  {
   "cell_type": "code",
   "execution_count": 4,
   "id": "da2905d8-28ec-44a1-8cc6-39880b919266",
   "metadata": {},
   "outputs": [
    {
     "data": {
      "text/plain": [
       "'progamin'"
      ]
     },
     "execution_count": 4,
     "metadata": {},
     "output_type": "execute_result"
    }
   ],
   "source": [
    "# no duplicates \n",
    "name = 'programming'\n",
    "new_name = ''\n",
    "\n",
    "for i in range(len(name)):\n",
    "    if name[i] not in new_name:\n",
    "        new_name += name[i]\n",
    "new_name"
   ]
  },
  {
   "cell_type": "code",
   "execution_count": 5,
   "id": "7e5ce3f6-67df-4992-bdbe-b43f33e93d82",
   "metadata": {},
   "outputs": [
    {
     "data": {
      "text/plain": [
       "[3, 2, 1, 4]"
      ]
     },
     "execution_count": 5,
     "metadata": {},
     "output_type": "execute_result"
    }
   ],
   "source": [
    "#no duplicate in list\n",
    "mylist = [3,2,3,1,2,4]\n",
    "newlist=[]\n",
    "\n",
    "for i in mylist:\n",
    "    if i not in newlist:\n",
    "        newlist.append(i)\n",
    "    else:\n",
    "        pass\n",
    "newlist"
   ]
  },
  {
   "cell_type": "code",
   "execution_count": 6,
   "id": "9e97e321-0981-4e4c-ab16-9f15ec389b40",
   "metadata": {},
   "outputs": [
    {
     "data": {
      "text/plain": [
       "7"
      ]
     },
     "execution_count": 6,
     "metadata": {},
     "output_type": "execute_result"
    }
   ],
   "source": [
    "#second largest element\n",
    "mylist=[7,3,2,14,14]\n",
    "uniq_list = list(set(mylist))\n",
    "uniq_list.sort()\n",
    "uniq_list[-2]"
   ]
  },
  {
   "cell_type": "code",
   "execution_count": 7,
   "id": "bc6b0c93-2983-4622-94f6-2787f5296696",
   "metadata": {},
   "outputs": [
    {
     "data": {
      "text/plain": [
       "[3, 2, 1, 4]"
      ]
     },
     "execution_count": 7,
     "metadata": {},
     "output_type": "execute_result"
    }
   ],
   "source": [
    "#remove duplicates \n",
    "mylist = [3,2,3,1,2,4]\n",
    "finalList = []\n",
    "for i in mylist:\n",
    "    if i not in finalList:\n",
    "        finalList.append(i)\n",
    "finalList"
   ]
  },
  {
   "cell_type": "code",
   "execution_count": 8,
   "id": "e5399b03-0302-4045-a220-8fcab70ec389",
   "metadata": {},
   "outputs": [
    {
     "data": {
      "text/plain": [
       "([1], [4])"
      ]
     },
     "execution_count": 8,
     "metadata": {},
     "output_type": "execute_result"
    }
   ],
   "source": [
    "#min max\n",
    "mylist = [3,2,3,1,2,4]\n",
    "mylist.sort()\n",
    "mylist[:1], mylist[-1::]"
   ]
  },
  {
   "cell_type": "code",
   "execution_count": 9,
   "id": "fb39ea09-6842-49ef-98fb-326eab9014eb",
   "metadata": {},
   "outputs": [
    {
     "data": {
      "text/plain": [
       "(4, 1)"
      ]
     },
     "execution_count": 9,
     "metadata": {},
     "output_type": "execute_result"
    }
   ],
   "source": [
    "# min-max usign array\n",
    "mylist = [3,2,1,2,4]\n",
    "max = min = mylist[0]\n",
    "for i in mylist:\n",
    "    if max < mylist[i]:\n",
    "        max = mylist[i]\n",
    "    if min > mylist[i]:\n",
    "        min = mylist[i]\n",
    "max, min"
   ]
  },
  {
   "cell_type": "code",
   "execution_count": 10,
   "id": "14c314fb-8a20-4a1f-b98a-4eafdda4e984",
   "metadata": {},
   "outputs": [
    {
     "data": {
      "text/plain": [
       "4"
      ]
     },
     "execution_count": 10,
     "metadata": {},
     "output_type": "execute_result"
    }
   ],
   "source": [
    "# count of consecutives ones\n",
    "mylist = [1,1,1,0,1,1,1,1]\n",
    "finalL = []\n",
    "count = 0\n",
    "for i in mylist:\n",
    "    if i == 1:\n",
    "        count +=1\n",
    "    else:\n",
    "        finalL.append(count)\n",
    "        count = 0\n",
    "finalL.append(count)\n",
    "finalL[-1]"
   ]
  },
  {
   "cell_type": "code",
   "execution_count": 11,
   "id": "fff650dc-feb6-4bef-9b09-95cf52e583d1",
   "metadata": {},
   "outputs": [
    {
     "data": {
      "text/plain": [
       "[3, 2]"
      ]
     },
     "execution_count": 11,
     "metadata": {},
     "output_type": "execute_result"
    }
   ],
   "source": [
    "# intersection of two lists\n",
    "\n",
    "var1 = [3,2,2,1]\n",
    "var2 = [3,2]\n",
    "res = []\n",
    "\n",
    "for i, j in zip(range(len(var1)), range(len(var2))):\n",
    "    if var1[i] == var2[j]:\n",
    "        if var1[i] not in res:\n",
    "\n",
    "            res.append(var1[i])\n",
    "res"
   ]
  },
  {
   "cell_type": "code",
   "execution_count": 12,
   "id": "4cd4efc5-2818-419e-958c-cc97b79e2e6f",
   "metadata": {},
   "outputs": [
    {
     "data": {
      "text/plain": [
       "[2, 3]"
      ]
     },
     "execution_count": 12,
     "metadata": {},
     "output_type": "execute_result"
    }
   ],
   "source": [
    "# another way using set\n",
    "\n",
    "var1 = set(var1)\n",
    "var2 = set(var2)\n",
    "\n",
    "ans = list(var1.intersection(var2))\n",
    "ans"
   ]
  },
  {
   "cell_type": "code",
   "execution_count": 13,
   "id": "e1eb8f71-a051-41ae-aafc-bf5496cd71ab",
   "metadata": {},
   "outputs": [
    {
     "data": {
      "text/plain": [
       "100"
      ]
     },
     "execution_count": 13,
     "metadata": {},
     "output_type": "execute_result"
    }
   ],
   "source": [
    "# adding values of dcitionary\n",
    "\n",
    "mydict = {\"A\": 10, \"B\": 20, \"C\": 30, \"D\":40}\n",
    "sum=0\n",
    "for i in mydict.values():\n",
    "    sum = sum+i\n",
    "sum"
   ]
  },
  {
   "cell_type": "code",
   "execution_count": 14,
   "id": "8d19a3e5-2006-44fe-9274-4a2c28c39f05",
   "metadata": {},
   "outputs": [
    {
     "name": "stdout",
     "output_type": "stream",
     "text": [
      "('B', 2)\n"
     ]
    }
   ],
   "source": [
    "#common key and value\n",
    "\n",
    "dict1 = {\"A\": 1, \"B\": 2, \"C\": 3}\n",
    "dict2 = {\"B\": 2, \"C\": 4, \"D\": 5}\n",
    "\n",
    "\n",
    "for i in dict1.items():\n",
    "    for j in dict2.items():\n",
    "        if i == j:\n",
    "            print(i)"
   ]
  },
  {
   "cell_type": "code",
   "execution_count": 15,
   "id": "479078cb-c09f-4248-b39c-402ce2edb51a",
   "metadata": {},
   "outputs": [
    {
     "data": {
      "text/plain": [
       "{'1': 1, '2': 2, '3': 2, '4': 1, '5': 1}"
      ]
     },
     "execution_count": 15,
     "metadata": {},
     "output_type": "execute_result"
    }
   ],
   "source": [
    "#count frequency of element in dictionary\n",
    "\n",
    "mylist = [1,2,2,3,4,3,5]\n",
    "mydict = {}\n",
    "\n",
    "for i in mylist:\n",
    "    count = 0\n",
    "    key = i\n",
    "    for j in mylist:\n",
    "        if key == j:\n",
    "            count += 1\n",
    "    mydict[str(key)] = count\n",
    "    count=0\n",
    "mydict"
   ]
  },
  {
   "cell_type": "code",
   "execution_count": 17,
   "id": "db2d8b9e-dda6-4989-8553-a23610c2d0d8",
   "metadata": {},
   "outputs": [
    {
     "name": "stdin",
     "output_type": "stream",
     "text": [
      " Ant\n"
     ]
    },
    {
     "data": {
      "text/plain": [
       "(1, 2)"
      ]
     },
     "execution_count": 17,
     "metadata": {},
     "output_type": "execute_result"
    }
   ],
   "source": [
    "#count vowels \n",
    "\n",
    "name = str(input(\"\"))\n",
    "vowels = 'aeiouAEIOU'\n",
    "vowel_count = 0\n",
    "con_count = 0\n",
    "\n",
    "for i in range(len(name)):\n",
    "    if name[i] in vowels:\n",
    "        vowel_count +=1\n",
    "    else:\n",
    "        con_count +=1\n",
    "vowel_count, con_count"
   ]
  },
  {
   "cell_type": "code",
   "execution_count": 20,
   "id": "4b97d5b9-55a2-4047-b9e8-77138c8e194a",
   "metadata": {},
   "outputs": [
    {
     "data": {
      "text/plain": [
       "3"
      ]
     },
     "execution_count": 20,
     "metadata": {},
     "output_type": "execute_result"
    }
   ],
   "source": [
    "#count number of non-empty vals\n",
    "mydict = {\"A\": 1, \"B\": \"\", \"C\": 3, \"D\": None, \"E\": \"Five\"}\n",
    "count = 0\n",
    "for i in mydict.values():\n",
    "    if i:\n",
    "        count+=1\n",
    "count"
   ]
  },
  {
   "cell_type": "code",
   "execution_count": 21,
   "id": "6cb5bb24-0329-4491-b29a-d2634ccb9525",
   "metadata": {},
   "outputs": [
    {
     "data": {
      "text/plain": [
       "200000"
      ]
     },
     "execution_count": 21,
     "metadata": {},
     "output_type": "execute_result"
    }
   ],
   "source": [
    "#highest sal\n",
    "\n",
    "mydict = {\"T\": 200000, \"A\": 200, \"C\": 5000 }\n",
    "\n",
    "def findMax(mydict):\n",
    "    max=0\n",
    "    for i in mydict.values():\n",
    "        if i > max:\n",
    "            max = i\n",
    "        return max\n",
    "findMax(mydict)"
   ]
  },
  {
   "cell_type": "code",
   "execution_count": 22,
   "id": "ae4718ea-83c9-4fba-a0ce-e4648a4146b8",
   "metadata": {},
   "outputs": [
    {
     "name": "stdin",
     "output_type": "stream",
     "text": [
      " da\n"
     ]
    },
    {
     "data": {
      "text/plain": [
       "'NP'"
      ]
     },
     "execution_count": 22,
     "metadata": {},
     "output_type": "execute_result"
    }
   ],
   "source": [
    "#check if key is present\n",
    "\n",
    "mydict = {\"T\": 200000, \"A\": 200, \"C\": 5000 }\n",
    "def findKey(mydict):\n",
    "    user = input(\"\")\n",
    "    if user in mydict.keys():\n",
    "        return 'Present'\n",
    "    else:\n",
    "        return 'NP'\n",
    "findKey(mydict)"
   ]
  },
  {
   "cell_type": "code",
   "execution_count": 43,
   "id": "1d8deb9b-3222-4b97-83f4-cc9c0c0bfeaa",
   "metadata": {},
   "outputs": [
    {
     "name": "stdin",
     "output_type": "stream",
     "text": [
      " programming\n"
     ]
    },
    {
     "data": {
      "text/plain": [
       "'progamin'"
      ]
     },
     "execution_count": 43,
     "metadata": {},
     "output_type": "execute_result"
    }
   ],
   "source": [
    "#remove duplicates\n",
    "\n",
    "name = str(input(\"\"))\n",
    "def removeDupli(name):\n",
    "    finalStr = \"\"\n",
    "    for i in range(len(name)):\n",
    "        if name[i] not in finalStr:\n",
    "            finalStr += name[i]\n",
    "    return finalStr\n",
    "    \n",
    "removeDupli(name)"
   ]
  },
  {
   "cell_type": "code",
   "execution_count": 23,
   "id": "92e04c75-a8a5-4af1-a94e-5763d0fbe01e",
   "metadata": {},
   "outputs": [
    {
     "name": "stdin",
     "output_type": "stream",
     "text": [
      " s\n"
     ]
    },
    {
     "ename": "NameError",
     "evalue": "name 's' is not defined",
     "output_type": "error",
     "traceback": [
      "\u001b[1;31m---------------------------------------------------------------------------\u001b[0m",
      "\u001b[1;31mNameError\u001b[0m                                 Traceback (most recent call last)",
      "Cell \u001b[1;32mIn[23], line 3\u001b[0m\n\u001b[0;32m      1\u001b[0m \u001b[38;5;66;03m# reverse key-values pairs\u001b[39;00m\n\u001b[1;32m----> 3\u001b[0m dict1 \u001b[38;5;241m=\u001b[39m \u001b[38;5;28;43meval\u001b[39;49m\u001b[43m(\u001b[49m\u001b[38;5;28;43minput\u001b[39;49m\u001b[43m(\u001b[49m\u001b[38;5;124;43m\"\u001b[39;49m\u001b[38;5;124;43m\"\u001b[39;49m\u001b[43m)\u001b[49m\u001b[43m)\u001b[49m \u001b[38;5;66;03m#eval takes dict as input\u001b[39;00m\n\u001b[0;32m      4\u001b[0m \u001b[38;5;28;01mdef\u001b[39;00m\u001b[38;5;250m \u001b[39m\u001b[38;5;21mrevKeys\u001b[39m(dict1):\n\u001b[0;32m      5\u001b[0m     newDict \u001b[38;5;241m=\u001b[39m {}\n",
      "File \u001b[1;32m<string>:1\u001b[0m\n",
      "\u001b[1;31mNameError\u001b[0m: name 's' is not defined"
     ]
    }
   ],
   "source": [
    "# reverse key-values pairs\n",
    "\n",
    "dict1 = eval(input(\"\")) #eval takes dict as input\n",
    "def revKeys(dict1):\n",
    "    newDict = {}\n",
    "    for i,j in zip(dict1.keys(), dict1.values()):\n",
    "        newDict[j] = i\n",
    "    return newDict\n",
    "revKeys(dict1)\n",
    "    "
   ]
  },
  {
   "cell_type": "code",
   "execution_count": 1,
   "id": "2e4a28c1-2a60-4612-b8d3-9a95bc7ce9ed",
   "metadata": {},
   "outputs": [
    {
     "name": "stdout",
     "output_type": "stream",
     "text": [
      "hell\n"
     ]
    }
   ],
   "source": [
    "print(\"hell\")"
   ]
  },
  {
   "cell_type": "code",
   "execution_count": null,
   "id": "d6dc7f1a-7b43-4c1b-ad22-e2348c072465",
   "metadata": {},
   "outputs": [],
   "source": []
  }
 ],
 "metadata": {
  "kernelspec": {
   "display_name": "Python 3 (ipykernel)",
   "language": "python",
   "name": "python3"
  },
  "language_info": {
   "codemirror_mode": {
    "name": "ipython",
    "version": 3
   },
   "file_extension": ".py",
   "mimetype": "text/x-python",
   "name": "python",
   "nbconvert_exporter": "python",
   "pygments_lexer": "ipython3",
   "version": "3.13.2"
  }
 },
 "nbformat": 4,
 "nbformat_minor": 5
}
