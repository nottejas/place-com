{
 "cells": [
  {
   "cell_type": "code",
   "execution_count": 15,
   "id": "a8d75a1a-e467-4d4f-b7c7-001d6b142684",
   "metadata": {},
   "outputs": [
    {
     "name": "stdout",
     "output_type": "stream",
     "text": [
      "Tejas\n"
     ]
    }
   ],
   "source": [
    "str = \" Tejas \"\n",
    "a=(str[0].upper() + str[1:-1] + str[-1].upper())\n",
    "print(a.strip())"
   ]
  },
  {
   "cell_type": "code",
   "execution_count": 21,
   "id": "905c9815-4d59-4ed1-b36b-598688fb64de",
   "metadata": {},
   "outputs": [
    {
     "name": "stdout",
     "output_type": "stream",
     "text": [
      "sleeping\n",
      "amazingly\n",
      "is\n"
     ]
    }
   ],
   "source": [
    "# sleep sleeping\n",
    "# ing ly\n",
    "# is is\n",
    "def add(word):\n",
    "    if word.endswith(\"ing\"):\n",
    "        return word + \"ly\"\n",
    "    elif word.endswith(\"is\"):\n",
    "        return word\n",
    "    else:\n",
    "        \n",
    "        return word + \"ing\"\n",
    "\n",
    "print(add(\"sleep\"))      \n",
    "print(add(\"amazing\"))   \n",
    "print(add(\"is\"))         \n",
    "\n",
    "\n",
    "# // can use slicing like [:-3]"
   ]
  },
  {
   "cell_type": "code",
   "execution_count": 36,
   "id": "24f9506a-ffbe-4828-9a0c-5939615cc7ff",
   "metadata": {},
   "outputs": [
    {
     "name": "stdout",
     "output_type": "stream",
     "text": [
      "w3e\n",
      "w3w3\n",
      "-1\n"
     ]
    }
   ],
   "source": [
    "# w3resource w3ce\n",
    "# w3 w3\n",
    "# A -1\n",
    "\n",
    "def add2(s: str):\n",
    "    if len(s) == 2:\n",
    "        return s*2\n",
    "    elif len(s) < 2:\n",
    "        return -1\n",
    "    else:\n",
    "        return s[:2] + s[-1]\n",
    "\n",
    "print(add2(\"w3resource\"))  \n",
    "print(add2(\"w3\"))          \n",
    "print(add2(\"A\"))           \n"
   ]
  },
  {
   "cell_type": "code",
   "execution_count": 52,
   "id": "765718fc-3c87-4b19-8173-f1aef4cec7d4",
   "metadata": {},
   "outputs": [
    {
     "name": "stdout",
     "output_type": "stream",
     "text": [
      "[7, 3]\n",
      "[7, 0]\n"
     ]
    }
   ],
   "source": [
    "# Infosys 123 [7,3]\n",
    "# ABCDEFG [6,0]\n",
    "\n",
    "\n",
    "def count(text):\n",
    "    dig_count = 0\n",
    "    let_count = 0\n",
    "    ans = []  # Reset ans for each call\n",
    "\n",
    "    for i in text:\n",
    "        if i.isdigit():\n",
    "            dig_count += 1\n",
    "        elif i.isalpha():\n",
    "            let_count += 1\n",
    "\n",
    "    ans.append(let_count)\n",
    "    ans.append(dig_count)\n",
    "    return ans\n",
    "\n",
    "print(count(\"Infosys 123\"))  # Output: [7, 3]\n",
    "print(count(\"ABCDEFG\"))      # Output: [7, 0]\n",
    "\n",
    "# def count(text):\n",
    "#     dig_count = 0\n",
    "#     let_count = 0\n",
    "#     ans = []  \n",
    "\n",
    "#     for i in text:\n",
    "#         ascii_val = ord(i)\n",
    "#         if 48 <= ascii_val <= 57:  # '0' to '9'\n",
    "#             dig_count += 1\n",
    "#         elif (65 <= ascii_val <= 90) or (97 <= ascii_val <= 122):  # 'A'-'Z' or 'a'-'z'\n",
    "#             let_count += 1\n",
    "\n",
    "#     ans.append(let_count)\n",
    "#     ans.append(dig_count)\n",
    "#     return ans\n",
    "\n",
    "# print(count(\"Infosys 123\"))  # Output: [7, 3]\n",
    "# print(count(\"ABCDEFG\"))      # Output: [7, 0]\n",
    "\n",
    "        "
   ]
  },
  {
   "cell_type": "code",
   "execution_count": 58,
   "id": "39846ea7-1bb1-4562-a3ae-e35eea4adf01",
   "metadata": {},
   "outputs": [
    {
     "name": "stdout",
     "output_type": "stream",
     "text": [
      "[1, 9]\n",
      "[2, 13]\n"
     ]
    }
   ],
   "source": [
    "# can use in range\n",
    "def add4(text):\n",
    "    cap_count = 0\n",
    "    let_count = 0\n",
    "    ans = []\n",
    "\n",
    "    for i in text:\n",
    "        ascii_val = ord(i)\n",
    "        if 65 <= ascii_val <= 90:\n",
    "            cap_count +=1\n",
    "        elif 97 <= ascii_val <= 122:\n",
    "            let_count +=1\n",
    "\n",
    "    ans.append(cap_count)\n",
    "    ans.append(let_count)\n",
    "    return ans\n",
    "\n",
    "print(add4(\"Hello world\"))\n",
    "print(add4(\"Welcome to Mysore\"))"
   ]
  },
  {
   "cell_type": "code",
   "execution_count": 63,
   "id": "8783694b-a42f-4cc1-9794-ad82f257498f",
   "metadata": {},
   "outputs": [
    {
     "name": "stdout",
     "output_type": "stream",
     "text": [
      "400\n",
      "750\n"
     ]
    }
   ],
   "source": [
    "# d 300 d 200 w 200 d 100 -> 400\n",
    "# d 350 w 100 w 500 d 1000 -> 750\n",
    "\n",
    "def calculate_balance(transactions):\n",
    "    balance = 0\n",
    "    \n",
    "    for i in range(0, len(transactions), 2):\n",
    "        action = transactions[i]\n",
    "        amount = int(transactions[i + 1])\n",
    "        \n",
    "        if action == 'd':  # Deposit\n",
    "            balance += amount\n",
    "        elif action == 'w':  # Withdrawal\n",
    "            balance -= amount\n",
    "    \n",
    "    return balance\n",
    "\n",
    "# Test Cases\n",
    "print(calculate_balance(['d', 300, 'd', 200, 'w', 200, 'd', 100]))  # Output: 400\n",
    "print(calculate_balance(['d', 350, 'w', 100, 'w', 500, 'd', 1000])) # Output: 750\n"
   ]
  },
  {
   "cell_type": "code",
   "execution_count": null,
   "id": "baf2995d-dab4-469a-8077-73d48673cf49",
   "metadata": {},
   "outputs": [],
   "source": []
  }
 ],
 "metadata": {
  "kernelspec": {
   "display_name": "Python 3 (ipykernel)",
   "language": "python",
   "name": "python3"
  },
  "language_info": {
   "codemirror_mode": {
    "name": "ipython",
    "version": 3
   },
   "file_extension": ".py",
   "mimetype": "text/x-python",
   "name": "python",
   "nbconvert_exporter": "python",
   "pygments_lexer": "ipython3",
   "version": "3.12.7"
  }
 },
 "nbformat": 4,
 "nbformat_minor": 5
}
