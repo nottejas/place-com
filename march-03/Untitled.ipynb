{
 "cells": [
  {
   "cell_type": "code",
   "execution_count": 2,
   "id": "b927bae3-6603-4ea1-bcdb-1e2c8f160764",
   "metadata": {},
   "outputs": [
    {
     "name": "stdin",
     "output_type": "stream",
     "text": [
      " 5\n"
     ]
    },
    {
     "name": "stdout",
     "output_type": "stream",
     "text": [
      "yes\n"
     ]
    }
   ],
   "source": [
    "n = int(input())\n",
    "\n",
    "num= n * n \n",
    "if num%100 == num:\n",
    "    print(\"yes\")\n",
    "else:\n",
    "    print(\"no\")"
   ]
  },
  {
   "cell_type": "code",
   "execution_count": 6,
   "id": "cf335486-e121-4281-8bf0-f32158f6b205",
   "metadata": {},
   "outputs": [
    {
     "name": "stdout",
     "output_type": "stream",
     "text": [
      "120\n"
     ]
    }
   ],
   "source": [
    "# solve using peterson num\n",
    "def fact(x):\n",
    "    if x == 1:\n",
    "        return 1  \n",
    "    return x * fact(x - 1)  \n",
    "\n",
    "print(fact(5))  \n"
   ]
  },
  {
   "cell_type": "code",
   "execution_count": 18,
   "id": "9151a7dc-2525-45f6-852d-a71dd82df51a",
   "metadata": {},
   "outputs": [
    {
     "name": "stdin",
     "output_type": "stream",
     "text": [
      " 2025\n"
     ]
    },
    {
     "name": "stdout",
     "output_type": "stream",
     "text": [
      "tech num\n"
     ]
    }
   ],
   "source": [
    "# tech number\n",
    "n = int(input())\n",
    "\n",
    "num = n % 100\n",
    "num2 = n // 100\n",
    "\n",
    "numP = num + num2\n",
    "\n",
    "finalSum= numP*numP\n",
    "\n",
    "if n == finalSum:\n",
    "    print(\"tech num\")\n",
    "else:\n",
    "    print(\"not\")\n"
   ]
  },
  {
   "cell_type": "code",
   "execution_count": 27,
   "id": "46aefe8a-bd4d-45b8-9937-6dd577e3e174",
   "metadata": {},
   "outputs": [
    {
     "name": "stdin",
     "output_type": "stream",
     "text": [
      " 1 3 2 4\n"
     ]
    },
    {
     "name": "stdout",
     "output_type": "stream",
     "text": [
      "3 4 4 -1\n"
     ]
    }
   ],
   "source": [
    "user_input = list(map(int, input().split()))  \n",
    "\n",
    "result = []  \n",
    "\n",
    "for i in range(len(user_input)):\n",
    "    found = False\n",
    "    for j in range(i + 1, len(user_input)):\n",
    "        if user_input[j] > user_input[i]:  \n",
    "            result.append(user_input[j])\n",
    "            found = True\n",
    "            break\n",
    "    if not found:\n",
    "        result.append(-1)\n",
    "\n",
    "print(*result) \n"
   ]
  },
  {
   "cell_type": "code",
   "execution_count": null,
   "id": "2d94016a-f859-4e73-9b4a-26490f05e585",
   "metadata": {},
   "outputs": [],
   "source": []
  }
 ],
 "metadata": {
  "kernelspec": {
   "display_name": "Python 3 (ipykernel)",
   "language": "python",
   "name": "python3"
  },
  "language_info": {
   "codemirror_mode": {
    "name": "ipython",
    "version": 3
   },
   "file_extension": ".py",
   "mimetype": "text/x-python",
   "name": "python",
   "nbconvert_exporter": "python",
   "pygments_lexer": "ipython3",
   "version": "3.12.7"
  }
 },
 "nbformat": 4,
 "nbformat_minor": 5
}
